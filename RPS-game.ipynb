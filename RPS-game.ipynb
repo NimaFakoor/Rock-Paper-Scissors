{
 "cells": [
  {
   "cell_type": "code",
   "execution_count": 1,
   "id": "cdcf3b66",
   "metadata": {},
   "outputs": [],
   "source": [
    "import random\n",
    "import time\n",
    "import colorama\n",
    "from colorama import Fore"
   ]
  },
  {
   "cell_type": "code",
   "execution_count": 2,
   "id": "880bfb33",
   "metadata": {},
   "outputs": [
    {
     "name": "stdout",
     "output_type": "stream",
     "text": [
      " Hi , Let's play rock-paper-scissors together (^-^) \n",
      " Let me give you some explanations...If you choice is Rock, write R, if you choice is paper, write p and if your choice is scissors, type s :) \n"
     ]
    }
   ],
   "source": [
    "print (\" Hi , Let's play rock-paper-scissors together (^-^) \")\n",
    "print(\" Let me give you some explanations...If you choice is Rock, write R, if you choice is paper, write p and if your choice is scissors, type s :) \")"
   ]
  },
  {
   "cell_type": "code",
   "execution_count": 3,
   "id": "4831c9be",
   "metadata": {},
   "outputs": [
    {
     "name": "stdout",
     "output_type": "stream",
     "text": [
      "Are you ready ?yes\n"
     ]
    }
   ],
   "source": [
    "start = input('Are you ready ?')"
   ]
  },
  {
   "cell_type": "code",
   "execution_count": 4,
   "id": "de7746d7",
   "metadata": {},
   "outputs": [],
   "source": [
    "i=5\n",
    "while (start == 'No') or (start =='no'):\n",
    "    print (\"Ummmm I'll wait ...\")\n",
    "    time.sleep(i)\n",
    "    start = input('Are you ready now ?')\n",
    "    i=i+5"
   ]
  },
  {
   "cell_type": "code",
   "execution_count": 5,
   "id": "83cfb7c9",
   "metadata": {},
   "outputs": [
    {
     "name": "stdout",
     "output_type": "stream",
     "text": [
      "\u001b[31mRound 1\n",
      "Choose your weapon [R]ock], [P]aper, or [S]cissors: p\n",
      "\u001b[34mTie!\n",
      " Do you wish to play again ?yes\n",
      "\u001b[31mRound 2\n",
      "Choose your weapon [R]ock], [P]aper, or [S]cissors: r\n",
      "\u001b[34mTie!\n",
      " Do you wish to play again ?yes\n",
      "\u001b[31mRound 3\n",
      "Choose your weapon [R]ock], [P]aper, or [S]cissors: r\n",
      "\u001b[32mRock beats scissors , you win :( \n",
      " Do you wish to play again ?yes\n",
      "\u001b[31mRound 4\n",
      "Choose your weapon [R]ock], [P]aper, or [S]cissors: s\n",
      "\u001b[32mScissors beats paper , you win (-_-) \n",
      " Do you wish to play again ?no\n",
      "\u001b[30m your score : Win =2 , Lose =0 , Tie =2\n",
      "\u001b[30mthanks for playing (^3^) \n"
     ]
    }
   ],
   "source": [
    "Round = 1 \n",
    "win = 0\n",
    "lose = 0\n",
    "tie = 0\n",
    "while (start == 'yes') or (start == 'Yes') or (start == 'Yeah') or (start == 'yeah'):\n",
    "    print (Fore.RED +f'Round {Round}')\n",
    "    user_choice = input(Fore.BLACK +'Choose your weapon [R]ock], [P]aper, or [S]cissors: ')\n",
    "    valid_choice = ['R', 'r','P','p','S','s']\n",
    "    while user_choice not in valid_choice:\n",
    "        print ('Error!!! pleas enter P or R or S only')\n",
    "        user_choice = input(Fore.BLACK +'Choose your weapon [R]ock], [P]aper, or [S]cissors: ')\n",
    "    if user_choice in valid_choice : \n",
    "        user_choice= user_choice.upper()\n",
    "        choices=['R','P','S']\n",
    "        opp_choice = random.choice(choices)\n",
    "        if user_choice == opp_choice :\n",
    "            print (Fore.BLUE + \"Tie!\")\n",
    "            tie = tie + 1\n",
    "        elif (user_choice == 'R') and (opp_choice == 'P'):\n",
    "            print (Fore.YELLOW +'Paper beats rock , I win ^^!')\n",
    "            lose = lose +1\n",
    "        elif (user_choice == 'R') and (opp_choice == 'S') :\n",
    "            print (Fore.GREEN +'Rock beats scissors , you win :( ')\n",
    "            win = win + 1\n",
    "        elif (user_choice == 'P') and (opp_choice == 'R'):\n",
    "            print (Fore.GREEN +'Paper beats rock , you win :( ')\n",
    "            win = win + 1\n",
    "        elif (user_choice == 'P') and (opp_choice == 'S'):\n",
    "            print (Fore.YELLOW +'Scissors beats paper , I win :D !')\n",
    "            lose = lose +1\n",
    "        elif (user_choice == 'S') and (opp_choice == 'P'):\n",
    "            print (Fore.GREEN +'Scissors beats paper , you win (-_-) ')\n",
    "            win = win + 1\n",
    "        elif (user_choice == 'S') and (opp_choice == 'R'):\n",
    "            print (Fore.YELLOW +'Paper beats Scissors , I win (; ')\n",
    "            lose = lose +1\n",
    "    Round = Round+1\n",
    "    start = input (Fore.BLACK + ' Do you wish to play again ?')\n",
    "if start == ('no' or 'No'):\n",
    "    print (Fore.BLACK + f' your score : Win ={win} , Lose ={lose} , Tie ={tie}')\n",
    "    print (Fore.BLACK +'thanks for playing (^3^) ' )"
   ]
  },
  {
   "cell_type": "code",
   "execution_count": null,
   "id": "3cdb8b6a",
   "metadata": {},
   "outputs": [],
   "source": []
  },
  {
   "cell_type": "code",
   "execution_count": null,
   "id": "30fb88fe",
   "metadata": {},
   "outputs": [],
   "source": []
  }
 ],
 "metadata": {
  "kernelspec": {
   "display_name": "Python 3 (ipykernel)",
   "language": "python",
   "name": "python3"
  },
  "language_info": {
   "codemirror_mode": {
    "name": "ipython",
    "version": 3
   },
   "file_extension": ".py",
   "mimetype": "text/x-python",
   "name": "python",
   "nbconvert_exporter": "python",
   "pygments_lexer": "ipython3",
   "version": "3.9.13"
  }
 },
 "nbformat": 4,
 "nbformat_minor": 5
}
